{
  "nbformat": 4,
  "nbformat_minor": 0,
  "metadata": {
    "colab": {
      "provenance": []
    },
    "kernelspec": {
      "name": "python3",
      "display_name": "Python 3"
    },
    "language_info": {
      "name": "python"
    }
  },
  "cells": [
    {
      "cell_type": "markdown",
      "source": [
        "# Program Python"
      ],
      "metadata": {
        "id": "xXw8MOG5OUrW"
      }
    },
    {
      "cell_type": "markdown",
      "source": [
        "# Latihan Python"
      ],
      "metadata": {
        "id": "GGEtM-SjOamu"
      }
    },
    {
      "cell_type": "markdown",
      "source": [
        "## Latihan 1"
      ],
      "metadata": {
        "id": "2HXGSPqTOgCl"
      }
    },
    {
      "cell_type": "code",
      "source": [
        "# prompt: buat program perkalian\n",
        "\n",
        "def perkalian(a, b):\n",
        "  return a * b\n",
        "\n",
        "def pembagian(a, b):\n",
        "  return a / b\n",
        "\n",
        "# Contoh penggunaan\n",
        "angka1 = 5\n",
        "angka2 = 10\n",
        "hasil = perkalian(angka1, angka2)\n",
        "hasil2 = pembagian(angka1, angka2)\n",
        "print(f\"Hasil perkalian {angka1} dan {angka2} adalah: {hasil}\")\n",
        "print(f\"Hasil peembagian {angka1} dan {angka2} adalah: {hasil2}\")"
      ],
      "metadata": {
        "colab": {
          "base_uri": "https://localhost:8080/"
        },
        "id": "Pf41I09wOqmt",
        "outputId": "4873cd43-e9e7-427b-8c6b-94c77df3ba59"
      },
      "execution_count": null,
      "outputs": [
        {
          "output_type": "stream",
          "name": "stdout",
          "text": [
            "Hasil perkalian 5 dan 10 adalah: 50\n",
            "Hasil peembagian 5 dan 10 adalah: 0.5\n"
          ]
        }
      ]
    },
    {
      "cell_type": "code",
      "source": [
        "# prompt: buat program perkalian dengan penjelasan masing-masing kodenya\n",
        "\n",
        "# Program Python untuk melakukan perkalian dan pembagian dua angka.\n",
        "\n",
        "# Definisi fungsi perkalian\n",
        "def perkalian(a, b):\n",
        "  \"\"\"\n",
        "  Fungsi ini menerima dua argumen numerik (a dan b) dan mengembalikan hasil perkaliannya.\n",
        "\n",
        "  Args:\n",
        "    a: Angka pertama.\n",
        "    b: Angka kedua.\n",
        "\n",
        "  Returns:\n",
        "    Hasil perkalian a dan b.\n",
        "  \"\"\"\n",
        "  return a * b\n",
        "\n",
        "# Definisi fungsi pembagian\n",
        "def pembagian(a, b):\n",
        "  \"\"\"\n",
        "  Fungsi ini menerima dua argumen numerik (a dan b) dan mengembalikan hasil pembagiannya.\n",
        "\n",
        "  Args:\n",
        "    a: Angka pertama (pembilang).\n",
        "    b: Angka kedua (penyebut).\n",
        "\n",
        "  Returns:\n",
        "    Hasil pembagian a dan b.\n",
        "    Mengembalikan pesan error jika penyebut adalah nol.\n",
        "  \"\"\"\n",
        "  if b == 0:\n",
        "    return \"Error: Pembagian dengan nol tidak diizinkan\"\n",
        "  return a / b\n",
        "\n",
        "# Contoh penggunaan fungsi\n",
        "angka1 = 5\n",
        "angka2 = 10\n",
        "\n",
        "# Memanggil fungsi perkalian dan menyimpan hasilnya dalam variabel 'hasil'\n",
        "hasil = perkalian(angka1, angka2)\n",
        "\n",
        "# Memanggil fungsi pembagian dan menyimpan hasilnya dalam variabel 'hasil2'\n",
        "hasil2 = pembagian(angka1, angka2)\n",
        "\n",
        "# Menampilkan hasil perkalian\n",
        "print(f\"Hasil perkalian {angka1} dan {angka2} adalah: {hasil}\")\n",
        "\n",
        "# Menampilkan hasil pembagian\n",
        "print(f\"Hasil pembagian {angka1} dan {angka2} adalah: {hasil2}\")\n",
        "\n",
        "\n",
        "# Contoh penggunaan dengan penyebut nol\n",
        "angka3 = 10\n",
        "angka4 = 0\n",
        "hasil3 = pembagian(angka3, angka4)\n",
        "print(f\"Hasil pembagian {angka3} dan {angka4} adalah: {hasil3}\")"
      ],
      "metadata": {
        "id": "XaXiU_MaOqpP"
      },
      "execution_count": null,
      "outputs": []
    },
    {
      "cell_type": "code",
      "source": [],
      "metadata": {
        "id": "X39dow0bOqr9"
      },
      "execution_count": null,
      "outputs": []
    },
    {
      "cell_type": "markdown",
      "source": [
        "### Latihan 1.1"
      ],
      "metadata": {
        "id": "Ob1U84ZhOk0b"
      }
    },
    {
      "cell_type": "code",
      "source": [
        "c = 7"
      ],
      "metadata": {
        "id": "mEzVB-m1KTJh"
      },
      "execution_count": null,
      "outputs": []
    },
    {
      "cell_type": "markdown",
      "source": [
        "- “=” (persamaan)\n",
        "- “≠” (ketidaksamaan)\n",
        "- “≈” (perkiraan)\n",
        "- “>” (lebih besar dari)\n",
        "- “<” (kurang dari)\n",
        "- “≥” (lebih dari atau sama dengan)\n",
        "- “≤” (kurang dari atau sama dengan)\n",
        "- “()” (hitung ekspresi di dalam terlebih dahulu)\n",
        "- π"
      ],
      "metadata": {
        "id": "kdNvvFxTNHgk"
      }
    },
    {
      "cell_type": "markdown",
      "source": [
        "**Aku belajar python**\n",
        "\n",
        "\n",
        "---\n",
        "\n",
        "`[sjgbsajbgjas]\n",
        "\n",
        "[sjgjsablgkbsagsa](https://)\n",
        "\n",
        "g]sg\n",
        "\n",
        "1.   A\n",
        "2.   B\n",
        "\n",
        "\n",
        "*   List item\n",
        "*   List item\n",
        "\n",
        "---\n",
        "\n",
        "\n",
        "\n",
        "sg\n",
        "\n",
        "gsa\n",
        "\n",
        "g\n",
        "\n",
        "asg"
      ],
      "metadata": {
        "id": "U_9viWStLf0B"
      }
    },
    {
      "cell_type": "code",
      "source": [
        "a = 5\n",
        "b = 2"
      ],
      "metadata": {
        "id": "ACWuFKOoK_t2"
      },
      "execution_count": null,
      "outputs": []
    },
    {
      "cell_type": "code",
      "source": [
        "a = 5"
      ],
      "metadata": {
        "id": "culmxzTjK_9W"
      },
      "execution_count": null,
      "outputs": []
    },
    {
      "cell_type": "code",
      "source": [
        "b = 2"
      ],
      "metadata": {
        "id": "LAFhjukbLACC"
      },
      "execution_count": null,
      "outputs": []
    },
    {
      "cell_type": "code",
      "source": [
        "print (\"hello World !!\")"
      ],
      "metadata": {
        "colab": {
          "base_uri": "https://localhost:8080/"
        },
        "id": "U6DxomVdLAE1",
        "outputId": "804dcc84-fd6c-486d-9397-364012492c34"
      },
      "execution_count": null,
      "outputs": [
        {
          "output_type": "stream",
          "name": "stdout",
          "text": [
            "hello World !!\n"
          ]
        }
      ]
    },
    {
      "cell_type": "code",
      "source": [
        "# prompt: buatkan program penjumlahan\n",
        "\n",
        "a = 5\n",
        "b = 2\n",
        "c = 7\n",
        "\n",
        "sum_result = a + b + c\n",
        "print(f\"The sum of a, b, and c is: {sum_result}\")"
      ],
      "metadata": {
        "colab": {
          "base_uri": "https://localhost:8080/"
        },
        "id": "IrG1icwCLAHi",
        "outputId": "c514343b-28ab-4cc5-db21-2536a367930a"
      },
      "execution_count": null,
      "outputs": [
        {
          "output_type": "stream",
          "name": "stdout",
          "text": [
            "The sum of a, b, and c is: 14\n"
          ]
        }
      ]
    },
    {
      "cell_type": "code",
      "source": [
        "# prompt: buatkan program hello world\n",
        "\n",
        "print(\"Hello, World!\")\n"
      ],
      "metadata": {
        "colab": {
          "base_uri": "https://localhost:8080/"
        },
        "id": "wszu-0P8LAKW",
        "outputId": "0fc9385f-4289-4abf-a0e7-99529d892c06"
      },
      "execution_count": null,
      "outputs": [
        {
          "output_type": "stream",
          "name": "stdout",
          "text": [
            "Hello, World!\n"
          ]
        }
      ]
    },
    {
      "cell_type": "code",
      "source": [
        "# prompt: buatkan program hello world pakai R\n",
        "\n",
        "print(\"Hello, World!\")"
      ],
      "metadata": {
        "colab": {
          "base_uri": "https://localhost:8080/"
        },
        "id": "E2F5qriLLANG",
        "outputId": "488176e0-c52a-49ba-d8b3-6db22c6ad230"
      },
      "execution_count": null,
      "outputs": [
        {
          "output_type": "stream",
          "name": "stdout",
          "text": [
            "Hello, World!\n"
          ]
        }
      ]
    },
    {
      "cell_type": "code",
      "source": [],
      "metadata": {
        "id": "EU6sSOTaLAPp"
      },
      "execution_count": null,
      "outputs": []
    },
    {
      "cell_type": "code",
      "execution_count": null,
      "metadata": {
        "id": "-FE2If3YFMCu"
      },
      "outputs": [],
      "source": [
        "a = 2\n",
        "b = 3"
      ]
    },
    {
      "cell_type": "code",
      "source": [
        "c7"
      ],
      "metadata": {
        "colab": {
          "base_uri": "https://localhost:8080/",
          "height": 146
        },
        "id": "YAgwmWF-Kife",
        "outputId": "1a197f4c-35e2-41d7-9a42-4e4208270d9c"
      },
      "execution_count": null,
      "outputs": [
        {
          "output_type": "error",
          "ename": "NameError",
          "evalue": "name 'c7' is not defined",
          "traceback": [
            "\u001b[0;31m---------------------------------------------------------------------------\u001b[0m",
            "\u001b[0;31mNameError\u001b[0m                                 Traceback (most recent call last)",
            "\u001b[0;32m<ipython-input-12-55fd98cf8830>\u001b[0m in \u001b[0;36m<cell line: 0>\u001b[0;34m()\u001b[0m\n\u001b[0;32m----> 1\u001b[0;31m \u001b[0mc7\u001b[0m\u001b[0;34m\u001b[0m\u001b[0;34m\u001b[0m\u001b[0m\n\u001b[0m",
            "\u001b[0;31mNameError\u001b[0m: name 'c7' is not defined"
          ]
        }
      ]
    },
    {
      "cell_type": "code",
      "source": [
        "a"
      ],
      "metadata": {
        "colab": {
          "base_uri": "https://localhost:8080/"
        },
        "id": "DTDTeuroLaCe",
        "outputId": "679d19ce-a992-4c32-80bd-a45f4959cc58"
      },
      "execution_count": null,
      "outputs": [
        {
          "output_type": "execute_result",
          "data": {
            "text/plain": [
              "2"
            ]
          },
          "metadata": {},
          "execution_count": 13
        }
      ]
    },
    {
      "cell_type": "code",
      "source": [
        "s"
      ],
      "metadata": {
        "colab": {
          "base_uri": "https://localhost:8080/",
          "height": 146
        },
        "id": "zni7F68nLb36",
        "outputId": "0012e4e2-0772-4e91-bb9f-269996a61848"
      },
      "execution_count": null,
      "outputs": [
        {
          "output_type": "error",
          "ename": "NameError",
          "evalue": "name 's' is not defined",
          "traceback": [
            "\u001b[0;31m---------------------------------------------------------------------------\u001b[0m",
            "\u001b[0;31mNameError\u001b[0m                                 Traceback (most recent call last)",
            "\u001b[0;32m<ipython-input-14-ded5ba42480f>\u001b[0m in \u001b[0;36m<cell line: 0>\u001b[0;34m()\u001b[0m\n\u001b[0;32m----> 1\u001b[0;31m \u001b[0ms\u001b[0m\u001b[0;34m\u001b[0m\u001b[0;34m\u001b[0m\u001b[0m\n\u001b[0m",
            "\u001b[0;31mNameError\u001b[0m: name 's' is not defined"
          ]
        }
      ]
    },
    {
      "cell_type": "code",
      "source": [
        "F"
      ],
      "metadata": {
        "colab": {
          "base_uri": "https://localhost:8080/",
          "height": 146
        },
        "id": "7KlNnXzELcO5",
        "outputId": "81ca51d1-471d-4363-ff8d-1efe6906a246"
      },
      "execution_count": null,
      "outputs": [
        {
          "output_type": "error",
          "ename": "NameError",
          "evalue": "name 'F' is not defined",
          "traceback": [
            "\u001b[0;31m---------------------------------------------------------------------------\u001b[0m",
            "\u001b[0;31mNameError\u001b[0m                                 Traceback (most recent call last)",
            "\u001b[0;32m<ipython-input-15-f4d604803730>\u001b[0m in \u001b[0;36m<cell line: 0>\u001b[0;34m()\u001b[0m\n\u001b[0;32m----> 1\u001b[0;31m \u001b[0mF\u001b[0m\u001b[0;34m\u001b[0m\u001b[0;34m\u001b[0m\u001b[0m\n\u001b[0m",
            "\u001b[0;31mNameError\u001b[0m: name 'F' is not defined"
          ]
        }
      ]
    },
    {
      "cell_type": "code",
      "source": [
        "g"
      ],
      "metadata": {
        "colab": {
          "base_uri": "https://localhost:8080/",
          "height": 146
        },
        "id": "RLPb8d3WLcf1",
        "outputId": "b23c7159-7d30-4435-b8fe-ea502a2f4386"
      },
      "execution_count": null,
      "outputs": [
        {
          "output_type": "error",
          "ename": "NameError",
          "evalue": "name 'g' is not defined",
          "traceback": [
            "\u001b[0;31m---------------------------------------------------------------------------\u001b[0m",
            "\u001b[0;31mNameError\u001b[0m                                 Traceback (most recent call last)",
            "\u001b[0;32m<ipython-input-16-a5938ace3f42>\u001b[0m in \u001b[0;36m<cell line: 0>\u001b[0;34m()\u001b[0m\n\u001b[0;32m----> 1\u001b[0;31m \u001b[0mg\u001b[0m\u001b[0;34m\u001b[0m\u001b[0;34m\u001b[0m\u001b[0m\n\u001b[0m",
            "\u001b[0;31mNameError\u001b[0m: name 'g' is not defined"
          ]
        }
      ]
    },
    {
      "cell_type": "code",
      "source": [
        "# prompt: buat program untuk membaca file xlsx\n",
        "\n",
        "!pip install openpyxl\n",
        "\n",
        "import openpyxl"
      ],
      "metadata": {
        "colab": {
          "base_uri": "https://localhost:8080/"
        },
        "id": "wLHguyERLc6A",
        "outputId": "4fbee626-ea7d-45dd-b3e8-03dc25bf22bd"
      },
      "execution_count": null,
      "outputs": [
        {
          "output_type": "stream",
          "name": "stdout",
          "text": [
            "Requirement already satisfied: openpyxl in /usr/local/lib/python3.11/dist-packages (3.1.5)\n",
            "Requirement already satisfied: et-xmlfile in /usr/local/lib/python3.11/dist-packages (from openpyxl) (2.0.0)\n"
          ]
        }
      ]
    },
    {
      "cell_type": "code",
      "source": [
        "def read_excel_file(file_path):\n",
        "    try:\n",
        "        workbook = openpyxl.load_workbook(file_path)\n",
        "        sheet = workbook.active  # Get the active sheet\n",
        "\n",
        "        for row in sheet.iter_rows():\n",
        "            for cell in row:\n",
        "                print(cell.value, end=\"\\t\")\n",
        "            print()  # Newline after each row\n",
        "\n",
        "    except FileNotFoundError:\n",
        "        print(f\"Error: File '{file_path}' not found.\")\n",
        "    except Exception as e:\n",
        "        print(f\"An error occurred: {e}\")\n",
        "\n",
        "# Example usage: Replace 'your_excel_file.xlsx' with the actual file name\n",
        "read_excel_file('2.-alamat-pasar.xlsx')"
      ],
      "metadata": {
        "colab": {
          "base_uri": "https://localhost:8080/"
        },
        "id": "Kq4NnrkuP1DN",
        "outputId": "dcb46e5a-cf26-4f94-a021-3d2769ba9b22"
      },
      "execution_count": null,
      "outputs": [
        {
          "output_type": "stream",
          "name": "stdout",
          "text": [
            "DAFTAR ALAMAT PASAR  \tNone\tNone\t\n",
            "SE - KABUPATEN SUKOHARJO \tNone\tNone\t\n",
            "None\tNone\tNone\t\n",
            "No.\tNama Pasar \tAlamat Pasar\t\n",
            "1.\tPasar Tawangsari\tKateguhan RT. 1/2  Tawangsari Tawangsari Sukoharjo\t\n",
            "2.\tPasar Ngalian\tLorog RT 1/1 Tawangsari Tawangsari Sukoharjo\t\n",
            "3.\tPasar Watukelir\tWatukelir  Jatingarang Weru Sukoharjo\t\n",
            "4.\tPasar Tawangkuno\tJl. Pattimura Tawang  Weru Sukoharjo\t\n",
            "5.\tPasar Purwa\tKarangtengah  Weru Sukoharjo\t\n",
            "6.\tPasar Bulu\tDk. Soronaggan RT 3/5  Bulu Sukoharjo\t\n",
            "7.\tPasar Lengking\tLengking RT 2/4 Lengking Bulu Sukoharjo\t\n",
            "8.\tPasar Jamu Nguter\tNguter RT 1/5  Nguter Sukoharjo\t\n",
            "9.\tPasar Kepuh\tKedungsari RT 3/1 Kepuh Nguter Sukoharjo\t\n",
            "10.\tPasar Ir. Soekarno\tJl. Jendral Sudirman No. 53 Sukoharjo\t\n",
            "11.\tPasar Carikan\tJl. Raya Carikan Sukoharjo\t\n",
            "12.\tPasar Grogol\tJl. Raya Grogol Sukoharjo\t\n",
            "13.\tPasar Telukan\tJl. Raya Telukan No. 42 Grogol\t\n",
            "14.\tPasar Cuplik\tTegalsari RT 1/1 Bulakan Sukoharjo\t\n",
            "15.\tPasar Kedunggudel\tKedunggudel RT 1/3 Kenep Sukoharjo\t\n",
            "16.\tPasar Gawok\tDs. Geneng Gatak  Sukoharjo\t\n",
            "17.\tPasar Sraten\tSraten Gatak Sukoharjo\t\n",
            "18.\tPasar Mayang\tSaripan  Mayang  Gatak\t\n",
            "19.\tPasar Kartasura + Pasar Hewan\tJl. Ahmad Yani Kartasura\t\n",
            "20.\tPasar Daleman\tDk. Krangganan RT 1/4 Kudu Baki\t\n",
            "21.\tPasar Baki\tNgablak RT 1/4 Kudu, Baki \t\n",
            "22.\tPasar Bekonang + Pasar Hewan\tJl. Pemuda No. 57 Bekonang \t\n",
            "23.\tPasar Plumbon\tJl. Lettu R.M Hartono Ds. Wirun \t\n",
            "24.\tPasar Mulur\tMulur RT 1/1 Ds. Mulur Bendosari\t\n",
            "25.\tPasar Glondongan barat dan timur\tGlondongan, Mranggen, Polokarto\t\n",
            "26. \tPasar Sedayu\tDk. Kepuh Ds. Bulu Kec. Polokarto\t\n"
          ]
        }
      ]
    },
    {
      "cell_type": "code",
      "source": [
        "# prompt: buatkan program bilangan atau perhitungan pada matematika selain penjumlahan, pengurangan, perkalian, dan pembagian beserta penjelasannya setiap program\n",
        "\n",
        "import math\n",
        "\n",
        "def pangkat(bilangan, eksponen):\n",
        "  \"\"\"\n",
        "  Fungsi ini menghitung pangkat dari suatu bilangan.\n",
        "\n",
        "  Args:\n",
        "    bilangan: Bilangan pokok.\n",
        "    eksponen: Bilangan eksponen.\n",
        "\n",
        "  Returns:\n",
        "    Hasil dari bilangan dipangkatkan dengan eksponen.\n",
        "  \"\"\"\n",
        "  return bilangan ** eksponen\n",
        "\n",
        "def akar_kuadrat(bilangan):\n",
        "  \"\"\"\n",
        "  Fungsi ini menghitung akar kuadrat dari suatu bilangan.\n",
        "\n",
        "  Args:\n",
        "    bilangan: Bilangan yang akan dicari akar kuadratnya.\n",
        "\n",
        "  Returns:\n",
        "    Hasil akar kuadrat dari bilangan. Mengembalikan pesan kesalahan jika bilangan negatif.\n",
        "  \"\"\"\n",
        "  if bilangan < 0:\n",
        "    return \"Error: Akar kuadrat bilangan negatif tidak terdefinisi dalam bilangan real\"\n",
        "  return math.sqrt(bilangan)\n",
        "\n",
        "def logaritma(bilangan, basis):\n",
        "  \"\"\"\n",
        "  Fungsi ini menghitung logaritma dari suatu bilangan dengan basis tertentu.\n",
        "\n",
        "  Args:\n",
        "    bilangan: Bilangan yang akan dicari logaritmanya.\n",
        "    basis: Basis logaritma.\n",
        "\n",
        "  Returns:\n",
        "    Hasil logaritma dari bilangan dengan basis tertentu. Mengembalikan pesan kesalahan jika input tidak valid.\n",
        "  \"\"\"\n",
        "  if bilangan <= 0 or basis <= 0 or basis == 1:\n",
        "    return \"Error: Input tidak valid untuk logaritma\"\n",
        "  return math.log(bilangan, basis)\n",
        "\n",
        "\n",
        "# Contoh penggunaan\n",
        "bilangan = 8\n",
        "eksponen = 3\n",
        "hasil_pangkat = pangkat(bilangan, eksponen)\n",
        "print(f\"{bilangan} pangkat {eksponen} adalah: {hasil_pangkat}\")\n",
        "\n",
        "bilangan = 16\n",
        "hasil_akar = akar_kuadrat(bilangan)\n",
        "print(f\"Akar kuadrat dari {bilangan} adalah: {hasil_akar}\")\n",
        "\n",
        "bilangan = 1000\n",
        "basis = 10\n",
        "hasil_logaritma = logaritma(bilangan, basis)\n",
        "print(f\"Logaritma {bilangan} dengan basis {basis} adalah: {hasil_logaritma}\")\n",
        "\n",
        "bilangan = -9\n",
        "hasil_akar_negatif = akar_kuadrat(bilangan)\n",
        "print(f\"Akar kuadrat dari {bilangan} adalah: {hasil_akar_negatif}\")\n",
        "\n",
        "bilangan = 0\n",
        "hasil_logaritma_nol = logaritma(bilangan, basis)\n",
        "print(f\"Logaritma {bilangan} dengan basis {basis} adalah: {hasil_logaritma_nol}\")"
      ],
      "metadata": {
        "id": "b8dgkuymQNaG",
        "colab": {
          "base_uri": "https://localhost:8080/"
        },
        "outputId": "170ea161-20d3-4363-ce50-709ace57b8e1"
      },
      "execution_count": 1,
      "outputs": [
        {
          "output_type": "stream",
          "name": "stdout",
          "text": [
            "8 pangkat 3 adalah: 512\n",
            "Akar kuadrat dari 16 adalah: 4.0\n",
            "Logaritma 1000 dengan basis 10 adalah: 2.9999999999999996\n",
            "Akar kuadrat dari -9 adalah: Error: Akar kuadrat bilangan negatif tidak terdefinisi dalam bilangan real\n",
            "Logaritma 0 dengan basis 10 adalah: Error: Input tidak valid untuk logaritma\n"
          ]
        }
      ]
    },
    {
      "cell_type": "code",
      "source": [
        "# prompt: buatka program aljabar selain penjumlahan, pengurangan, perkalian, dan pembagian beserta penjelasannya masing-masing program\n",
        "\n",
        "import math\n",
        "\n",
        "def pangkat(bilangan, eksponen):\n",
        "  \"\"\"\n",
        "  Fungsi ini menghitung pangkat dari suatu bilangan.\n",
        "\n",
        "  Args:\n",
        "    bilangan: Bilangan pokok.\n",
        "    eksponen: Bilangan eksponen.\n",
        "\n",
        "  Returns:\n",
        "    Hasil dari bilangan dipangkatkan dengan eksponen.\n",
        "  \"\"\"\n",
        "  return bilangan ** eksponen\n",
        "\n",
        "def akar_kuadrat(bilangan):\n",
        "  \"\"\"\n",
        "  Fungsi ini menghitung akar kuadrat dari suatu bilangan.\n",
        "\n",
        "  Args:\n",
        "    bilangan: Bilangan yang akan dicari akar kuadratnya.\n",
        "\n",
        "  Returns:\n",
        "    Hasil akar kuadrat dari bilangan. Mengembalikan pesan kesalahan jika bilangan negatif.\n",
        "  \"\"\"\n",
        "  if bilangan < 0:\n",
        "    return \"Error: Akar kuadrat bilangan negatif tidak terdefinisi dalam bilangan real\"\n",
        "  return math.sqrt(bilangan)\n",
        "\n",
        "def logaritma(bilangan, basis):\n",
        "  \"\"\"\n",
        "  Fungsi ini menghitung logaritma dari suatu bilangan dengan basis tertentu.\n",
        "\n",
        "  Args:\n",
        "    bilangan: Bilangan yang akan dicari logaritmanya.\n",
        "    basis: Basis logaritma.\n",
        "\n",
        "  Returns:\n",
        "    Hasil logaritma dari bilangan dengan basis tertentu. Mengembalikan pesan kesalahan jika input tidak valid.\n",
        "  \"\"\"\n",
        "  if bilangan <= 0 or basis <= 0 or basis == 1:\n",
        "    return \"Error: Input tidak valid untuk logaritma\"\n",
        "  return math.log(bilangan, basis)\n",
        "\n",
        "def faktorial(n):\n",
        "    \"\"\"\n",
        "    Fungsi ini menghitung faktorial dari suatu bilangan bulat non-negatif.\n",
        "\n",
        "    Args:\n",
        "        n: Bilangan bulat non-negatif.\n",
        "\n",
        "    Returns:\n",
        "        Faktorial dari n. Mengembalikan pesan kesalahan jika input tidak valid.\n",
        "    \"\"\"\n",
        "    if not isinstance(n, int) or n < 0:\n",
        "        return \"Error: Input harus bilangan bulat non-negatif\"\n",
        "    elif n == 0:\n",
        "        return 1\n",
        "    else:\n",
        "        return n * faktorial(n-1)\n",
        "\n",
        "# Contoh penggunaan\n",
        "bilangan = 8\n",
        "eksponen = 3\n",
        "hasil_pangkat = pangkat(bilangan, eksponen)\n",
        "print(f\"{bilangan} pangkat {eksponen} adalah: {hasil_pangkat}\")\n",
        "\n",
        "bilangan = 16\n",
        "hasil_akar = akar_kuadrat(bilangan)\n",
        "print(f\"Akar kuadrat dari {bilangan} adalah: {hasil_akar}\")\n",
        "\n",
        "bilangan = 1000\n",
        "basis = 10\n",
        "hasil_logaritma = logaritma(bilangan, basis)\n",
        "print(f\"Logaritma {bilangan} dengan basis {basis} adalah: {hasil_logaritma}\")\n",
        "\n",
        "bilangan = 5\n",
        "hasil_faktorial = faktorial(bilangan)\n",
        "print(f\"Faktorial dari {bilangan} adalah: {hasil_faktorial}\")"
      ],
      "metadata": {
        "colab": {
          "base_uri": "https://localhost:8080/"
        },
        "id": "Ru-wFGS4LUId",
        "outputId": "55da93d6-2201-4894-a66e-6cb388186e97"
      },
      "execution_count": 2,
      "outputs": [
        {
          "output_type": "stream",
          "name": "stdout",
          "text": [
            "8 pangkat 3 adalah: 512\n",
            "Akar kuadrat dari 16 adalah: 4.0\n",
            "Logaritma 1000 dengan basis 10 adalah: 2.9999999999999996\n",
            "Faktorial dari 5 adalah: 120\n"
          ]
        }
      ]
    },
    {
      "cell_type": "code",
      "source": [
        "# prompt: def logaritma(bilangan, basis):\n",
        "# if bilangan <= 0 or basis <= 0 or basis == 1:\n",
        "#     return \"Error: Input tidak valid untuk logaritma\"\n",
        "#   return math.log(bilangan, basis)\n",
        "# berikan penjelasan masing-masing baris tersebut\n",
        "\n",
        "def logaritma(bilangan, basis):\n",
        "  \"\"\"\n",
        "  Fungsi ini menghitung logaritma dari suatu bilangan dengan basis tertentu.\n",
        "\n",
        "  Args:\n",
        "    bilangan: Bilangan yang akan dicari logaritmanya.\n",
        "    basis: Basis logaritma.\n",
        "\n",
        "  Returns:\n",
        "    Hasil logaritma dari bilangan dengan basis tertentu. Mengembalikan pesan kesalahan jika input tidak valid.\n",
        "  \"\"\"\n",
        "  if bilangan <= 0 or basis <= 0 or basis == 1:\n",
        "    # Periksa apakah input valid untuk logaritma.\n",
        "    # Logaritma tidak terdefinisi untuk bilangan non-positif, basis non-positif, atau basis 1.\n",
        "    return \"Error: Input tidak valid untuk logaritma\" # Jika input tidak valid, kembalikan pesan error.\n",
        "  return math.log(bilangan, basis) # Jika input valid, hitung dan kembalikan hasil logaritma menggunakan math.log()."
      ],
      "metadata": {
        "id": "AKW8kdqWLtCy"
      },
      "execution_count": null,
      "outputs": []
    }
  ]
}